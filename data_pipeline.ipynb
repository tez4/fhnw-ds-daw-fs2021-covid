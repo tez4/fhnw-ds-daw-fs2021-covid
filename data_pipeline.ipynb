{
 "cells": [
  {
   "cell_type": "code",
   "execution_count": 2,
   "metadata": {},
   "outputs": [],
   "source": [
    "import pandas as pd\n",
    "from datetime import date\n",
    "from glob import glob"
   ]
  },
  {
   "cell_type": "code",
   "execution_count": 3,
   "metadata": {},
   "outputs": [],
   "source": [
    "today = date.today()\n",
    "dates = [date.strftime('%m-%d-%Y') for date in pd.date_range(start='2020-01-22', end=today)][:-1]\n",
    "dates_as_date = pd.date_range(start='2020-01-22', end=today)[:-1]\n",
    "\n",
    "\n",
    "# standardize column names for all entries\n",
    "def rename_columns(column):\n",
    "    column_map = {\n",
    "        'Lat': 'Latitude',\n",
    "        'Long_': 'Longitude',\n",
    "        'Incidence_Rate': 'Incident_Rate'\n",
    "    }\n",
    "    if column in column_map:\n",
    "        return column_map[column]\n",
    "    return column.replace('/', '_').replace('-', '_').replace(' ', '_')\n",
    "\n",
    "all_cases = []\n",
    "for d in range(len(dates)):\n",
    "    path = \"https://raw.githubusercontent.com/CSSEGISandData/COVID-19/master/csse_covid_19_data/csse_covid_19_daily_reports/{}.csv\".format(dates[d])\n",
    "    data = pd.read_csv(path)\n",
    "    data.rename(columns=rename_columns, inplace=True)\n",
    "    data['Date'] = dates_as_date[d]\n",
    "    all_cases.append(data)\n",
    "\n",
    "df = pd.concat(all_cases)"
   ]
  },
  {
   "cell_type": "code",
   "execution_count": 4,
   "metadata": {},
   "outputs": [],
   "source": [
    "# all_cases.Country_Region.unique()\n",
    "\n",
    "# standardize country names for all entries\n",
    "country_mapping = {\n",
    "    'MS Zaandam|Diamond Princess|Cruise Ship': 'Others', # move cruise ships to others\n",
    "    'Hong Kong.+': 'Hong Kong',\n",
    "    'Iran.+': 'Iran',\n",
    "    '.*Congo.*': 'Congo',\n",
    "    'Mainland China': 'China',\n",
    "    '.*Bahamas.*': 'The Bahamas',\n",
    "    '.*Gambia.*': 'The Gambia',\n",
    "    'Viet Nam': 'Vietnam',\n",
    "    'Taiwan\\*': 'Taiwan',\n",
    "    'Cote d\\'Ivoire': 'Ivory Coast',\n",
    "    'Cabo Verde': 'Cape Verde',\n",
    "    'Russian Federation': 'Russia',\n",
    "    ' Azerbaijan': 'Azerbaijan',\n",
    "    'Holy See': 'Vatican City',\n",
    "    'Republic of Ireland': 'Ireland',\n",
    "    'Republic of Moldova': 'Moldova',\n",
    "    'Czechia': 'Czech Republic',\n",
    "    'Republic of Korea|Korea, South': 'South Korea',\n",
    "    'Timor-Leste': 'East Timor',\n",
    "    'Macao SAR|Macau': 'Macao',\n",
    "    'UK': 'United Kingdom',\n",
    "    'Jersey|Guernsey': 'Channel Islands',\n",
    "    'Dominican Republicn Republic|Dominica': 'Dominican Republic'\n",
    "}\n",
    "\n",
    "df['Country_Region'].replace(\n",
    "    to_replace=country_mapping.keys(),\n",
    "    value=country_mapping.values(),\n",
    "    regex=True,\n",
    "    inplace=True\n",
    ")"
   ]
  },
  {
   "cell_type": "code",
   "execution_count": 5,
   "metadata": {},
   "outputs": [],
   "source": [
    "# group data by country\n",
    "daily_updates = df.groupby(['Country_Region', 'Date']).agg(\n",
    "     Confirmed = ('Confirmed','sum'),\n",
    "     Deaths = ('Deaths','sum'),\n",
    " ).reset_index()"
   ]
  },
  {
   "cell_type": "code",
   "execution_count": 10,
   "metadata": {},
   "outputs": [],
   "source": [
    "# get changes in data\n",
    "updates_per_country = daily_updates.groupby('Country_Region')\n",
    "# diff takes difference to point in group before it\n",
    "daily_updates['New_Confirmed'] = updates_per_country['Confirmed'].diff().fillna(0)\n",
    "daily_updates['New_Deaths'] = updates_per_country['Deaths'].diff().fillna(0)"
   ]
  },
  {
   "cell_type": "code",
   "execution_count": 12,
   "metadata": {},
   "outputs": [],
   "source": [
    "# reorder columns\n",
    "worldwide_pretty = daily_updates.loc[:, ['Date', 'Country_Region', 'New_Confirmed', 'Confirmed', 'New_Deaths', 'Deaths']]"
   ]
  },
  {
   "cell_type": "code",
   "execution_count": 18,
   "metadata": {},
   "outputs": [
    {
     "data": {
      "text/html": [
       "<div>\n",
       "<style scoped>\n",
       "    .dataframe tbody tr th:only-of-type {\n",
       "        vertical-align: middle;\n",
       "    }\n",
       "\n",
       "    .dataframe tbody tr th {\n",
       "        vertical-align: top;\n",
       "    }\n",
       "\n",
       "    .dataframe thead th {\n",
       "        text-align: right;\n",
       "    }\n",
       "</style>\n",
       "<table border=\"1\" class=\"dataframe\">\n",
       "  <thead>\n",
       "    <tr style=\"text-align: right;\">\n",
       "      <th></th>\n",
       "      <th>Date</th>\n",
       "      <th>Country_Region</th>\n",
       "      <th>New_Confirmed</th>\n",
       "      <th>Confirmed</th>\n",
       "      <th>New_Deaths</th>\n",
       "      <th>Deaths</th>\n",
       "    </tr>\n",
       "  </thead>\n",
       "  <tbody>\n",
       "    <tr>\n",
       "      <th>0</th>\n",
       "      <td>2020-02-24</td>\n",
       "      <td>Afghanistan</td>\n",
       "      <td>0.0</td>\n",
       "      <td>1.0</td>\n",
       "      <td>0.0</td>\n",
       "      <td>0.0</td>\n",
       "    </tr>\n",
       "    <tr>\n",
       "      <th>1</th>\n",
       "      <td>2020-02-25</td>\n",
       "      <td>Afghanistan</td>\n",
       "      <td>0.0</td>\n",
       "      <td>1.0</td>\n",
       "      <td>0.0</td>\n",
       "      <td>0.0</td>\n",
       "    </tr>\n",
       "    <tr>\n",
       "      <th>2</th>\n",
       "      <td>2020-02-26</td>\n",
       "      <td>Afghanistan</td>\n",
       "      <td>0.0</td>\n",
       "      <td>1.0</td>\n",
       "      <td>0.0</td>\n",
       "      <td>0.0</td>\n",
       "    </tr>\n",
       "  </tbody>\n",
       "</table>\n",
       "</div>"
      ],
      "text/plain": [
       "        Date Country_Region  New_Confirmed  Confirmed  New_Deaths  Deaths\n",
       "0 2020-02-24    Afghanistan            0.0        1.0         0.0     0.0\n",
       "1 2020-02-25    Afghanistan            0.0        1.0         0.0     0.0\n",
       "2 2020-02-26    Afghanistan            0.0        1.0         0.0     0.0"
      ]
     },
     "execution_count": 18,
     "metadata": {},
     "output_type": "execute_result"
    }
   ],
   "source": [
    "worldwide_pretty.head(3)"
   ]
  },
  {
   "cell_type": "code",
   "execution_count": null,
   "metadata": {},
   "outputs": [],
   "source": []
  }
 ],
 "metadata": {
  "kernelspec": {
   "display_name": "Python 3",
   "language": "python",
   "name": "python3"
  },
  "language_info": {
   "codemirror_mode": {
    "name": "ipython",
    "version": 3
   },
   "file_extension": ".py",
   "mimetype": "text/x-python",
   "name": "python",
   "nbconvert_exporter": "python",
   "pygments_lexer": "ipython3",
   "version": "3.8.5"
  }
 },
 "nbformat": 4,
 "nbformat_minor": 4
}
