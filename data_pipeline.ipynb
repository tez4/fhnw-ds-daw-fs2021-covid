{
 "cells": [
  {
   "cell_type": "code",
   "execution_count": 1,
   "metadata": {},
   "outputs": [],
   "source": [
    "import pandas as pd\n",
    "from datetime import date"
   ]
  },
  {
   "cell_type": "code",
   "execution_count": 2,
   "metadata": {},
   "outputs": [],
   "source": [
    "today = date.today()\n",
    "dates = [date.strftime('%m-%d-%Y') for date in pd.date_range(start='2020-01-22', end=today)][:-1]\n",
    "\n",
    "# standardize column names for all entries\n",
    "def rename_columns(column):\n",
    "    column_map = {\n",
    "        'Lat': 'Latitude',\n",
    "        'Long_': 'Longitude',\n",
    "        'Incidence_Rate': 'Incident_Rate'\n",
    "    }\n",
    "    if column in column_map:\n",
    "        return column_map[column]\n",
    "    return column.replace('/', '_').replace('-', '_').replace(' ', '_')"
   ]
  },
  {
   "cell_type": "code",
   "execution_count": null,
   "metadata": {},
   "outputs": [],
   "source": [
    "all_cases = pd.DataFrame(columns=['Country_Region', 'Confirmed', 'Deaths', 'Date'])\n",
    "\n",
    "for d in dates:\n",
    "    path = \"https://raw.githubusercontent.com/CSSEGISandData/COVID-19/master/csse_covid_19_data/csse_covid_19_daily_reports/{}.csv\".format(d)\n",
    "    df = pd.read_csv(path)\n",
    "    df.rename(columns=rename_columns, inplace=True)\n",
    "    df['Date'] = d\n",
    "    df = df[['Country_Region', 'Confirmed', 'Deaths']]\n",
    "    df = df.groupby(['Country_Region']).agg(\n",
    "        Confirmed = ('Confirmed', 'sum'),\n",
    "        Deaths = ('Deaths', 'sum')\n",
    "    ).reset_index()\n",
    "    all_cases = pd.concat([all_cases, df])\n"
   ]
  },
  {
   "cell_type": "code",
   "execution_count": null,
   "metadata": {},
   "outputs": [],
   "source": []
  },
  {
   "cell_type": "code",
   "execution_count": null,
   "metadata": {},
   "outputs": [],
   "source": []
  },
  {
   "cell_type": "code",
   "execution_count": null,
   "metadata": {},
   "outputs": [],
   "source": []
  },
  {
   "cell_type": "code",
   "execution_count": null,
   "metadata": {},
   "outputs": [],
   "source": []
  },
  {
   "cell_type": "code",
   "execution_count": null,
   "metadata": {},
   "outputs": [],
   "source": []
  },
  {
   "cell_type": "code",
   "execution_count": null,
   "metadata": {},
   "outputs": [],
   "source": []
  },
  {
   "cell_type": "code",
   "execution_count": null,
   "metadata": {},
   "outputs": [],
   "source": []
  },
  {
   "cell_type": "code",
   "execution_count": null,
   "metadata": {},
   "outputs": [],
   "source": []
  }
 ],
 "metadata": {
  "kernelspec": {
   "display_name": "Python 3",
   "language": "python",
   "name": "python3"
  },
  "language_info": {
   "codemirror_mode": {
    "name": "ipython",
    "version": 3
   },
   "file_extension": ".py",
   "mimetype": "text/x-python",
   "name": "python",
   "nbconvert_exporter": "python",
   "pygments_lexer": "ipython3",
   "version": "3.8.5"
  }
 },
 "nbformat": 4,
 "nbformat_minor": 4
}
