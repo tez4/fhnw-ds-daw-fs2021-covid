{
 "cells": [
  {
   "cell_type": "code",
   "execution_count": 1,
   "metadata": {},
   "outputs": [],
   "source": [
    "import pandas as pd\n",
    "from datetime import date\n",
    "from glob import glob\n",
    "import seaborn as sns\n",
    "import plotly.offline as pyo\n",
    "import plotly.graph_objects as go\n",
    "import plotly.io as pio\n",
    "import plotly.express as px\n",
    "\n",
    "# with this renderer, the plots are also shown in the html file.\n",
    "pio.renderers.default = \"iframe_connected\""
   ]
  },
  {
   "cell_type": "code",
   "execution_count": 2,
   "metadata": {},
   "outputs": [],
   "source": [
    "today = date.today()\n",
    "dates = [date.strftime('%m-%d-%Y') for date in pd.date_range(start='2020-01-22', end=today)][:-1]\n",
    "dates_as_date = pd.date_range(start='2020-01-22', end=today)[:-1]\n",
    "\n",
    "\n",
    "# standardize column names for all entries\n",
    "def rename_columns(column):\n",
    "    column_map = {\n",
    "        'Lat': 'Latitude',\n",
    "        'Long_': 'Longitude',\n",
    "        'Incidence_Rate': 'Incident_Rate'\n",
    "    }\n",
    "    if column in column_map:\n",
    "        return column_map[column]\n",
    "    return column.replace('/', '_').replace('-', '_').replace(' ', '_')\n",
    "\n",
    "all_cases = []\n",
    "for d in range(len(dates)):\n",
    "    path = \"https://raw.githubusercontent.com/CSSEGISandData/COVID-19/master/csse_covid_19_data/csse_covid_19_daily_reports/{}.csv\".format(dates[d])\n",
    "    data = pd.read_csv(path)\n",
    "    data.rename(columns=rename_columns, inplace=True)\n",
    "    data['Date'] = dates_as_date[d]\n",
    "    all_cases.append(data)\n",
    "\n",
    "df = pd.concat(all_cases)"
   ]
  },
  {
   "cell_type": "code",
   "execution_count": 3,
   "metadata": {},
   "outputs": [],
   "source": [
    "# all_cases.Country_Region.unique()\n",
    "\n",
    "# standardize country names for all entries\n",
    "country_mapping = {\n",
    "    'MS Zaandam|Diamond Princess|Cruise Ship': 'Others', # move cruise ships to others\n",
    "    'Hong Kong.+': 'Hong Kong',\n",
    "    'Iran.+': 'Iran',\n",
    "    '.*Congo.*': 'Congo',\n",
    "    'Mainland China': 'China',\n",
    "    '.*Bahamas.*': 'The Bahamas',\n",
    "    '.*Gambia.*': 'The Gambia',\n",
    "    'Viet Nam': 'Vietnam',\n",
    "    'Taiwan\\*': 'Taiwan',\n",
    "    'Cote d\\'Ivoire': 'Ivory Coast',\n",
    "    'Cabo Verde': 'Cape Verde',\n",
    "    'Russian Federation': 'Russia',\n",
    "    ' Azerbaijan': 'Azerbaijan',\n",
    "    'Holy See': 'Vatican City',\n",
    "    'Republic of Ireland': 'Ireland',\n",
    "    'Republic of Moldova': 'Moldova',\n",
    "    'Czechia': 'Czech Republic',\n",
    "    'Republic of Korea|Korea, South': 'South Korea',\n",
    "    'Timor-Leste': 'East Timor',\n",
    "    'Macao SAR|Macau': 'Macao',\n",
    "    'UK': 'United Kingdom',\n",
    "    'Jersey|Guernsey': 'Channel Islands',\n",
    "    'Dominican Republicn Republic|Dominica': 'Dominican Republic'\n",
    "}\n",
    "\n",
    "df['Country_Region'].replace(\n",
    "    to_replace=country_mapping.keys(),\n",
    "    value=country_mapping.values(),\n",
    "    regex=True,\n",
    "    inplace=True\n",
    ")"
   ]
  },
  {
   "cell_type": "code",
   "execution_count": 8,
   "metadata": {},
   "outputs": [],
   "source": [
    "df.to_csv('worldwide.csv')"
   ]
  },
  {
   "cell_type": "code",
   "execution_count": 2,
   "metadata": {},
   "outputs": [
    {
     "name": "stderr",
     "output_type": "stream",
     "text": [
      "C:\\Users\\joelt\\anaconda3\\lib\\site-packages\\IPython\\core\\interactiveshell.py:3146: DtypeWarning:\n",
      "\n",
      "Columns (15) have mixed types.Specify dtype option on import or set low_memory=False.\n",
      "\n"
     ]
    }
   ],
   "source": [
    "df = pd.read_csv('worldwide.csv')"
   ]
  },
  {
   "cell_type": "code",
   "execution_count": 3,
   "metadata": {},
   "outputs": [],
   "source": [
    "# group data by country\n",
    "daily_updates = df.groupby(['Country_Region', 'Date']).agg(\n",
    "     Confirmed = ('Confirmed','sum'),\n",
    "     Deaths = ('Deaths','sum'),\n",
    " ).reset_index()"
   ]
  },
  {
   "cell_type": "code",
   "execution_count": 4,
   "metadata": {},
   "outputs": [],
   "source": [
    "# get changes in data\n",
    "updates_per_country = daily_updates.groupby('Country_Region')\n",
    "# diff takes difference to point in group before it\n",
    "daily_updates['New_Confirmed'] = updates_per_country['Confirmed'].diff().fillna(0)\n",
    "daily_updates['New_Deaths'] = updates_per_country['Deaths'].diff().fillna(0)"
   ]
  },
  {
   "cell_type": "code",
   "execution_count": 5,
   "metadata": {},
   "outputs": [],
   "source": [
    "# reorder columns\n",
    "worldwide_pretty = daily_updates.loc[:, ['Date', 'Country_Region', 'New_Confirmed', 'Confirmed', 'New_Deaths', 'Deaths']]"
   ]
  },
  {
   "cell_type": "code",
   "execution_count": 6,
   "metadata": {},
   "outputs": [
    {
     "data": {
      "text/html": [
       "<div>\n",
       "<style scoped>\n",
       "    .dataframe tbody tr th:only-of-type {\n",
       "        vertical-align: middle;\n",
       "    }\n",
       "\n",
       "    .dataframe tbody tr th {\n",
       "        vertical-align: top;\n",
       "    }\n",
       "\n",
       "    .dataframe thead th {\n",
       "        text-align: right;\n",
       "    }\n",
       "</style>\n",
       "<table border=\"1\" class=\"dataframe\">\n",
       "  <thead>\n",
       "    <tr style=\"text-align: right;\">\n",
       "      <th></th>\n",
       "      <th>Date</th>\n",
       "      <th>Country_Region</th>\n",
       "      <th>New_Confirmed</th>\n",
       "      <th>Confirmed</th>\n",
       "      <th>New_Deaths</th>\n",
       "      <th>Deaths</th>\n",
       "    </tr>\n",
       "  </thead>\n",
       "  <tbody>\n",
       "    <tr>\n",
       "      <th>0</th>\n",
       "      <td>2020-02-24</td>\n",
       "      <td>Afghanistan</td>\n",
       "      <td>0.0</td>\n",
       "      <td>1.0</td>\n",
       "      <td>0.0</td>\n",
       "      <td>0.0</td>\n",
       "    </tr>\n",
       "    <tr>\n",
       "      <th>1</th>\n",
       "      <td>2020-02-25</td>\n",
       "      <td>Afghanistan</td>\n",
       "      <td>0.0</td>\n",
       "      <td>1.0</td>\n",
       "      <td>0.0</td>\n",
       "      <td>0.0</td>\n",
       "    </tr>\n",
       "    <tr>\n",
       "      <th>2</th>\n",
       "      <td>2020-02-26</td>\n",
       "      <td>Afghanistan</td>\n",
       "      <td>0.0</td>\n",
       "      <td>1.0</td>\n",
       "      <td>0.0</td>\n",
       "      <td>0.0</td>\n",
       "    </tr>\n",
       "  </tbody>\n",
       "</table>\n",
       "</div>"
      ],
      "text/plain": [
       "         Date Country_Region  New_Confirmed  Confirmed  New_Deaths  Deaths\n",
       "0  2020-02-24    Afghanistan            0.0        1.0         0.0     0.0\n",
       "1  2020-02-25    Afghanistan            0.0        1.0         0.0     0.0\n",
       "2  2020-02-26    Afghanistan            0.0        1.0         0.0     0.0"
      ]
     },
     "execution_count": 6,
     "metadata": {},
     "output_type": "execute_result"
    }
   ],
   "source": [
    "worldwide_pretty.head(3)"
   ]
  },
  {
   "cell_type": "code",
   "execution_count": 7,
   "metadata": {},
   "outputs": [],
   "source": [
    "# create df with one column per date\n",
    "worldwide_all = worldwide_pretty.groupby('Date').agg(\n",
    "    Confirmed = ('Confirmed', 'sum'),\n",
    "    New_Confirmed = ('New_Confirmed', 'sum')\n",
    ")\n",
    "# create a moving average\n",
    "worldwide_all['SMA_14'] = round(worldwide_all.loc[:,'New_Confirmed'].rolling(window=14).mean())\n",
    "worldwide_all = worldwide_all.reset_index()"
   ]
  },
  {
   "cell_type": "code",
   "execution_count": 8,
   "metadata": {},
   "outputs": [
    {
     "data": {
      "text/html": [
       "<div>\n",
       "<style scoped>\n",
       "    .dataframe tbody tr th:only-of-type {\n",
       "        vertical-align: middle;\n",
       "    }\n",
       "\n",
       "    .dataframe tbody tr th {\n",
       "        vertical-align: top;\n",
       "    }\n",
       "\n",
       "    .dataframe thead th {\n",
       "        text-align: right;\n",
       "    }\n",
       "</style>\n",
       "<table border=\"1\" class=\"dataframe\">\n",
       "  <thead>\n",
       "    <tr style=\"text-align: right;\">\n",
       "      <th></th>\n",
       "      <th>Date</th>\n",
       "      <th>Confirmed</th>\n",
       "      <th>New_Confirmed</th>\n",
       "      <th>SMA_14</th>\n",
       "    </tr>\n",
       "  </thead>\n",
       "  <tbody>\n",
       "    <tr>\n",
       "      <th>0</th>\n",
       "      <td>2020-01-22</td>\n",
       "      <td>557.0</td>\n",
       "      <td>0.0</td>\n",
       "      <td>NaN</td>\n",
       "    </tr>\n",
       "    <tr>\n",
       "      <th>1</th>\n",
       "      <td>2020-01-23</td>\n",
       "      <td>1097.0</td>\n",
       "      <td>537.0</td>\n",
       "      <td>NaN</td>\n",
       "    </tr>\n",
       "    <tr>\n",
       "      <th>2</th>\n",
       "      <td>2020-01-24</td>\n",
       "      <td>941.0</td>\n",
       "      <td>-158.0</td>\n",
       "      <td>NaN</td>\n",
       "    </tr>\n",
       "  </tbody>\n",
       "</table>\n",
       "</div>"
      ],
      "text/plain": [
       "         Date  Confirmed  New_Confirmed  SMA_14\n",
       "0  2020-01-22      557.0            0.0     NaN\n",
       "1  2020-01-23     1097.0          537.0     NaN\n",
       "2  2020-01-24      941.0         -158.0     NaN"
      ]
     },
     "execution_count": 8,
     "metadata": {},
     "output_type": "execute_result"
    }
   ],
   "source": [
    "worldwide_all.head(3)"
   ]
  },
  {
   "cell_type": "code",
   "execution_count": null,
   "metadata": {},
   "outputs": [],
   "source": []
  },
  {
   "cell_type": "code",
   "execution_count": 23,
   "metadata": {},
   "outputs": [
    {
     "data": {
      "text/html": [
       "<iframe\n",
       "    scrolling=\"no\"\n",
       "    width=\"100%\"\n",
       "    height=\"420\"\n",
       "    src=\"iframe_figures/figure_104.html\"\n",
       "    frameborder=\"0\"\n",
       "    allowfullscreen\n",
       "></iframe>\n"
      ]
     },
     "metadata": {},
     "output_type": "display_data"
    }
   ],
   "source": [
    "plot = go.Figure()\n",
    "\n",
    "plot.add_trace(\n",
    "    go.Bar(\n",
    "        name='Daily Meas',\n",
    "        x=worldwide_all[\"Date\"], \n",
    "        y=worldwide_all[\"New_Confirmed\"],\n",
    "        marker={\n",
    "            # size': 10,\n",
    "            'color': 'red',\n",
    "            'opacity': 1\n",
    "        },\n",
    "    )\n",
    ")\n",
    "\n",
    "plot.add_trace(\n",
    "    go.Scatter(\n",
    "        name='14 Day MA',\n",
    "        x=worldwide_all[\"Date\"], \n",
    "        y=worldwide_all[\"SMA_14\"],\n",
    "        mode='lines',\n",
    "        marker={\n",
    "            'size': 1,\n",
    "            'color': 'black',\n",
    "            'opacity': 0.7\n",
    "        },\n",
    "        line_width=1.5\n",
    "    )\n",
    ")\n",
    "\n",
    "\n",
    "plot.update_layout(\n",
    "    title_x=0,\n",
    "    title='New Corona Cases Worldwide',\n",
    "    margin={\n",
    "        'l': 25,\n",
    "        'b': 25,\n",
    "        't': 50,\n",
    "        'r': 20\n",
    "    },\n",
    "    height=400,\n",
    "    yaxis={\n",
    "        'color': '#748B99',\n",
    "        'showgrid': True,\n",
    "        'showline': True,\n",
    "        'gridwidth': 1,\n",
    "        'gridcolor': '#B6C3CC',\n",
    "        # 'rangemode': \"tozero\",\n",
    "        'range':\n",
    "            [0,\n",
    "             worldwide_all.New_Confirmed.max() * 1.05],\n",
    "        # 'ticksuffix': ' '\n",
    "        # 'tickprefix': 'id: '\n",
    "    },\n",
    "    xaxis={\n",
    "        'showgrid': False,\n",
    "        'color': '#748B99',\n",
    "        'showline': True,\n",
    "        'linecolor': '#B6C3CC',\n",
    "    },\n",
    "    paper_bgcolor='#FFFFFF',\n",
    "    plot_bgcolor='rgba(0,0,0,0)',\n",
    "    showlegend=False,\n",
    "    legend={\n",
    "        'yanchor': 'top',\n",
    "        'y': 0.99,\n",
    "        'xanchor': 'right',\n",
    "        'x': 0.99\n",
    "    })\n",
    "\n",
    "plot.show()"
   ]
  },
  {
   "cell_type": "code",
   "execution_count": 99,
   "metadata": {},
   "outputs": [],
   "source": [
    "path = \"https://raw.githubusercontent.com/openZH/covid_19/master/COVID19_Fallzahlen_CH_total_v2.csv\"\n",
    "chData = pd.read_csv(path)"
   ]
  },
  {
   "cell_type": "code",
   "execution_count": 100,
   "metadata": {},
   "outputs": [],
   "source": [
    "chGrouped = chData.groupby('abbreviation_canton_and_fl')"
   ]
  },
  {
   "cell_type": "code",
   "execution_count": 101,
   "metadata": {},
   "outputs": [],
   "source": [
    "chData['ncumul_conf'] = chGrouped['ncumul_conf'].apply(lambda x: x.ffill())\n",
    "chData['ncumul_deceased'] = chGrouped['ncumul_deceased'].apply(lambda x: x.ffill())\n",
    "chData['ncumul_conf'] = chData['ncumul_conf'].fillna(0)\n",
    "chData['ncumul_deceased'] = chData['ncumul_deceased'].fillna(0)"
   ]
  },
  {
   "cell_type": "code",
   "execution_count": 102,
   "metadata": {},
   "outputs": [],
   "source": [
    "chData = chData[chData.date >= '2020-05-31']"
   ]
  },
  {
   "cell_type": "code",
   "execution_count": 112,
   "metadata": {},
   "outputs": [],
   "source": [
    "chGrouped = chData.groupby('abbreviation_canton_and_fl')['ncumul_conf']\n",
    "chData = chData.assign(min_conf=chGrouped.transform(min))\n",
    "chData['total_cases'] = chData['ncumul_conf'] - chData['min_conf']\n",
    "\n",
    "chGrouped = chData.groupby('abbreviation_canton_and_fl')['ncumul_deceased']\n",
    "chData = chData.assign(min_deceased=chGrouped.transform(min))\n",
    "chData['total_deaths'] = chData['ncumul_deceased'] - chData['min_deceased']\n",
    "\n",
    "chData = chData[chData.date >= '2020-06-01']\n",
    "\n",
    "chData = chData[['date','abbreviation_canton_and_fl','total_cases','total_deaths']]"
   ]
  },
  {
   "cell_type": "code",
   "execution_count": 113,
   "metadata": {},
   "outputs": [
    {
     "data": {
      "text/html": [
       "<div>\n",
       "<style scoped>\n",
       "    .dataframe tbody tr th:only-of-type {\n",
       "        vertical-align: middle;\n",
       "    }\n",
       "\n",
       "    .dataframe tbody tr th {\n",
       "        vertical-align: top;\n",
       "    }\n",
       "\n",
       "    .dataframe thead th {\n",
       "        text-align: right;\n",
       "    }\n",
       "</style>\n",
       "<table border=\"1\" class=\"dataframe\">\n",
       "  <thead>\n",
       "    <tr style=\"text-align: right;\">\n",
       "      <th></th>\n",
       "      <th>date</th>\n",
       "      <th>abbreviation_canton_and_fl</th>\n",
       "      <th>total_cases</th>\n",
       "      <th>total_deaths</th>\n",
       "    </tr>\n",
       "  </thead>\n",
       "  <tbody>\n",
       "    <tr>\n",
       "      <th>2359</th>\n",
       "      <td>2020-06-01</td>\n",
       "      <td>BL</td>\n",
       "      <td>0.0</td>\n",
       "      <td>0.0</td>\n",
       "    </tr>\n",
       "    <tr>\n",
       "      <th>2360</th>\n",
       "      <td>2020-06-01</td>\n",
       "      <td>FR</td>\n",
       "      <td>0.0</td>\n",
       "      <td>0.0</td>\n",
       "    </tr>\n",
       "    <tr>\n",
       "      <th>2361</th>\n",
       "      <td>2020-06-01</td>\n",
       "      <td>GR</td>\n",
       "      <td>0.0</td>\n",
       "      <td>0.0</td>\n",
       "    </tr>\n",
       "    <tr>\n",
       "      <th>2362</th>\n",
       "      <td>2020-06-01</td>\n",
       "      <td>JU</td>\n",
       "      <td>0.0</td>\n",
       "      <td>0.0</td>\n",
       "    </tr>\n",
       "    <tr>\n",
       "      <th>2363</th>\n",
       "      <td>2020-06-01</td>\n",
       "      <td>NE</td>\n",
       "      <td>0.0</td>\n",
       "      <td>0.0</td>\n",
       "    </tr>\n",
       "    <tr>\n",
       "      <th>...</th>\n",
       "      <td>...</td>\n",
       "      <td>...</td>\n",
       "      <td>...</td>\n",
       "      <td>...</td>\n",
       "    </tr>\n",
       "    <tr>\n",
       "      <th>11803</th>\n",
       "      <td>2021-06-14</td>\n",
       "      <td>SZ</td>\n",
       "      <td>11896.0</td>\n",
       "      <td>213.0</td>\n",
       "    </tr>\n",
       "    <tr>\n",
       "      <th>11804</th>\n",
       "      <td>2021-06-14</td>\n",
       "      <td>TG</td>\n",
       "      <td>18498.0</td>\n",
       "      <td>434.0</td>\n",
       "    </tr>\n",
       "    <tr>\n",
       "      <th>11805</th>\n",
       "      <td>2021-06-14</td>\n",
       "      <td>BS</td>\n",
       "      <td>11945.0</td>\n",
       "      <td>155.0</td>\n",
       "    </tr>\n",
       "    <tr>\n",
       "      <th>11806</th>\n",
       "      <td>2021-06-14</td>\n",
       "      <td>AI</td>\n",
       "      <td>1199.0</td>\n",
       "      <td>15.0</td>\n",
       "    </tr>\n",
       "    <tr>\n",
       "      <th>11807</th>\n",
       "      <td>2021-06-14</td>\n",
       "      <td>ZH</td>\n",
       "      <td>108729.0</td>\n",
       "      <td>1276.0</td>\n",
       "    </tr>\n",
       "  </tbody>\n",
       "</table>\n",
       "<p>9449 rows × 4 columns</p>\n",
       "</div>"
      ],
      "text/plain": [
       "             date abbreviation_canton_and_fl  total_cases  total_deaths\n",
       "2359   2020-06-01                         BL          0.0           0.0\n",
       "2360   2020-06-01                         FR          0.0           0.0\n",
       "2361   2020-06-01                         GR          0.0           0.0\n",
       "2362   2020-06-01                         JU          0.0           0.0\n",
       "2363   2020-06-01                         NE          0.0           0.0\n",
       "...           ...                        ...          ...           ...\n",
       "11803  2021-06-14                         SZ      11896.0         213.0\n",
       "11804  2021-06-14                         TG      18498.0         434.0\n",
       "11805  2021-06-14                         BS      11945.0         155.0\n",
       "11806  2021-06-14                         AI       1199.0          15.0\n",
       "11807  2021-06-14                         ZH     108729.0        1276.0\n",
       "\n",
       "[9449 rows x 4 columns]"
      ]
     },
     "execution_count": 113,
     "metadata": {},
     "output_type": "execute_result"
    }
   ],
   "source": [
    "chData"
   ]
  },
  {
   "cell_type": "code",
   "execution_count": null,
   "metadata": {},
   "outputs": [],
   "source": []
  }
 ],
 "metadata": {
  "kernelspec": {
   "display_name": "Python 3",
   "language": "python",
   "name": "python3"
  },
  "language_info": {
   "codemirror_mode": {
    "name": "ipython",
    "version": 3
   },
   "file_extension": ".py",
   "mimetype": "text/x-python",
   "name": "python",
   "nbconvert_exporter": "python",
   "pygments_lexer": "ipython3",
   "version": "3.8.10"
  }
 },
 "nbformat": 4,
 "nbformat_minor": 4
}
